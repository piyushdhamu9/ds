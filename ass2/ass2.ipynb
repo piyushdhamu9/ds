{
 "cells": [
  {
   "cell_type": "code",
   "execution_count": null,
   "id": "440ed809",
   "metadata": {},
   "outputs": [],
   "source": [
    "import pandas as pd\n",
    "import numpy as np\n",
    "import matplotlib.pyplot as plt\n",
    "import seaborn as sns"
   ]
  },
  {
   "cell_type": "code",
   "execution_count": null,
   "id": "b1b9f407",
   "metadata": {},
   "outputs": [],
   "source": [
    "df = pd.read_csv('StudentsPerformance.csv')"
   ]
  },
  {
   "cell_type": "code",
   "execution_count": null,
   "id": "da980f01",
   "metadata": {},
   "outputs": [],
   "source": [
    "print(\"Missing values per column:\\n\", df.isnull().sum())"
   ]
  },
  {
   "cell_type": "code",
   "execution_count": null,
   "id": "c0e0a4eb",
   "metadata": {},
   "outputs": [],
   "source": [
    "df.info()"
   ]
  },
  {
   "cell_type": "code",
   "execution_count": null,
   "id": "c77edb07",
   "metadata": {},
   "outputs": [],
   "source": [
    "# Check for inconsistencies in categorical variables\n",
    "categorical_cols = ['gender', 'race/ethnicity', 'parental level of education', 'lunch', 'test preparation course']\n",
    "for col in categorical_cols:\n",
    "    print(f\"\\nUnique values in '{col}':\")\n",
    "    print(df[col].unique())"
   ]
  },
  {
   "cell_type": "code",
   "execution_count": null,
   "id": "8b38f02c",
   "metadata": {},
   "outputs": [],
   "source": [
    "# 4. Check for inconsistencies (e.g., negative or >100 scores)\n",
    "num_cols = ['math score', 'reading score', 'writing score']\n",
    "\n",
    "for col in num_cols:\n",
    "    print(f\"Inconsistent values in {col}:\")\n",
    "    print(df[(df[col] < 0) | (df[col] > 100)])\n",
    "\n",
    "    # Fix: Set negatives to 0, values >100 to 100\n",
    "    df.loc[df[col] < 0, col] = 0\n",
    "    df.loc[df[col] > 100, col] = 100"
   ]
  },
  {
   "cell_type": "code",
   "execution_count": null,
   "id": "c8827d12",
   "metadata": {},
   "outputs": [],
   "source": [
    "# 2. DETECT OUTLIERS IN NUMERIC VARIABLES USING IQR\n",
    "def detect_outliers(col):\n",
    "    Q1 = df[col].quantile(0.25)\n",
    "    Q3 = df[col].quantile(0.75)\n",
    "    IQR = Q3 - Q1\n",
    "    lower = Q1 - 1.5 * IQR\n",
    "    upper = Q3 + 1.5 * IQR\n",
    "    outliers = df[(df[col] < lower) | (df[col] > upper)]\n",
    "    print(f\"{col}: {len(outliers)} outliers\")\n",
    "    return outliers, lower, upper"
   ]
  },
  {
   "cell_type": "code",
   "execution_count": null,
   "id": "fc339e98",
   "metadata": {},
   "outputs": [],
   "source": [
    "numeric_cols = ['math score', 'reading score', 'writing score']\n",
    "for col in numeric_cols:\n",
    "    detect_outliers(col)"
   ]
  },
  {
   "cell_type": "code",
   "execution_count": null,
   "id": "d771a6a6",
   "metadata": {},
   "outputs": [],
   "source": [
    "# 6. Data transformation: Log transform \"reading score\" to reduce skewness\n",
    "df['reading score_log'] = np.log(df['reading score'] + 1)  # add 1 to avoid log(0)"
   ]
  },
  {
   "cell_type": "code",
   "execution_count": null,
   "id": "d36dd949",
   "metadata": {},
   "outputs": [],
   "source": [
    "print(\"Skewness before transformation:\", df['reading score'].skew())"
   ]
  },
  {
   "cell_type": "code",
   "execution_count": null,
   "id": "962c4e31",
   "metadata": {},
   "outputs": [],
   "source": [
    "# 7. Visualize before and after transformation\n",
    "sns.histplot(df['reading score'], kde=True,color='blue')\n",
    "plt.title('Original Reading Score')"
   ]
  },
  {
   "cell_type": "code",
   "execution_count": null,
   "id": "0553114f",
   "metadata": {},
   "outputs": [],
   "source": [
    "# Check skewness after transformation\n",
    "print(\"Skewness after transformation:\", df['reading score_log'].skew())"
   ]
  },
  {
   "cell_type": "code",
   "execution_count": null,
   "id": "c9231dc9",
   "metadata": {},
   "outputs": [],
   "source": [
    "\n",
    "sns.histplot(df['reading score_log'],kde=True, color='green')\n",
    "plt.title('Log-Transformed Reading Score')"
   ]
  },
  {
   "cell_type": "code",
   "execution_count": null,
   "id": "43fd9421",
   "metadata": {},
   "outputs": [],
   "source": [
    "# Before Transformation: Visualize distribution and skewness\n",
    "plt.figure(figsize=(12, 5))\n",
    "plt.subplot(1, 2, 1)\n",
    "sns.histplot(df['math score'], kde=True)\n",
    "plt.title(\"Original Math Score Distribution\")"
   ]
  },
  {
   "cell_type": "code",
   "execution_count": null,
   "id": "6328db2e",
   "metadata": {},
   "outputs": [],
   "source": [
    "# Apply Power Transformation (Yeo-Johnson handles 0 and negative values)\n",
    "from sklearn.preprocessing import PowerTransformer\n",
    "pt = PowerTransformer(method='yeo-johnson')\n",
    "df['math_score_transformed'] = pt.fit_transform(df[['math score']])\n",
    "\n",
    "# After Transformation: Visualize transformed distribution\n",
    "plt.subplot(1, 2, 2)\n",
    "sns.histplot(df['math_score_transformed'], kde=True, color='green')\n",
    "plt.title(\"Transformed Math Score (Yeo-Johnson)\")\n",
    "plt.tight_layout()\n",
    "plt.show()"
   ]
  },
  {
   "cell_type": "code",
   "execution_count": null,
   "id": "29e8bd51",
   "metadata": {},
   "outputs": [],
   "source": []
  }
 ],
 "metadata": {
  "kernelspec": {
   "display_name": "Python 3",
   "language": "python",
   "name": "python3"
  },
  "language_info": {
   "codemirror_mode": {
    "name": "ipython",
    "version": 3
   },
   "file_extension": ".py",
   "mimetype": "text/x-python",
   "name": "python",
   "nbconvert_exporter": "python",
   "pygments_lexer": "ipython3",
   "version": "3.10.11"
  }
 },
 "nbformat": 4,
 "nbformat_minor": 5
}
