{
 "cells": [
  {
   "cell_type": "code",
   "execution_count": null,
   "id": "b401034e",
   "metadata": {},
   "outputs": [],
   "source": [
    "import pandas as pd\n",
    "df=pd.read_csv('Iris.csv')\n"
   ]
  },
  {
   "cell_type": "code",
   "execution_count": null,
   "id": "3569eed2",
   "metadata": {},
   "outputs": [],
   "source": [
    "df.info()"
   ]
  },
  {
   "cell_type": "code",
   "execution_count": null,
   "id": "1186f96b",
   "metadata": {},
   "outputs": [],
   "source": [
    "df.describe()"
   ]
  },
  {
   "cell_type": "code",
   "execution_count": null,
   "id": "4e03335c",
   "metadata": {},
   "outputs": [],
   "source": [
    "grouped=df.groupby('Species')"
   ]
  },
  {
   "cell_type": "code",
   "execution_count": null,
   "id": "c7978169",
   "metadata": {},
   "outputs": [],
   "source": [
    "grouped.describe()"
   ]
  },
  {
   "cell_type": "code",
   "execution_count": null,
   "id": "6e105289",
   "metadata": {},
   "outputs": [],
   "source": [
    "# Define a function to calculate statistics\n",
    "def calculate_statistics(group):\n",
    "    return pd.Series({\n",
    "        'mean': group.mean(),\n",
    "        'median': group.median(),\n",
    "        'std': group.std(),\n",
    "        'min': group.min(),\n",
    "        'max': group.max(),\n",
    "        '25th_percentile': group.quantile(0.25),\n",
    "        '75th_percentile': group.quantile(0.75)\n",
    "    })"
   ]
  },
  {
   "cell_type": "code",
   "execution_count": null,
   "id": "17cf6992",
   "metadata": {},
   "outputs": [],
   "source": [
    "# Apply the function to each group\n",
    "statistics = grouped.apply(calculate_statistics)"
   ]
  },
  {
   "cell_type": "code",
   "execution_count": null,
   "id": "d9065f8b",
   "metadata": {},
   "outputs": [],
   "source": [
    "statistics"
   ]
  }
 ],
 "metadata": {
  "kernelspec": {
   "display_name": "Python 3",
   "language": "python",
   "name": "python3"
  },
  "language_info": {
   "codemirror_mode": {
    "name": "ipython",
    "version": 3
   },
   "file_extension": ".py",
   "mimetype": "text/x-python",
   "name": "python",
   "nbconvert_exporter": "python",
   "pygments_lexer": "ipython3",
   "version": "3.10.11"
  }
 },
 "nbformat": 4,
 "nbformat_minor": 5
}
