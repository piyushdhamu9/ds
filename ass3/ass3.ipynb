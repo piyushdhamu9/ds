{
 "cells": [
  {
   "cell_type": "code",
   "execution_count": null,
   "id": "c888a567",
   "metadata": {},
   "outputs": [],
   "source": [
    "import pandas as pd\n",
    "\n",
    "# Your dataset\n",
    "data = {\n",
    "    'Name': [\n",
    "        'Zane', 'Cathy', 'Leo', 'Mona', 'Alice', 'David', 'Grace', 'Nate', 'Ben', 'Olivia',\n",
    "        'Bob', 'Victor', 'Quinn', 'Xander', 'Ella', 'Paul', 'Frank', 'Kate', 'Wendy', 'Henry',\n",
    "        'Jack', 'Tina', 'Sam', 'Ivy', 'Cara', 'Rita', 'Yara', 'Dan', 'Uma', 'Abby'\n",
    "    ],\n",
    "    'Age': [\n",
    "        42, 21, 30, 28, 22, 25, 20, 26, 44, 33,\n",
    "        24, 40, 29, 41, 23, 31, 19, 30, 38, 22,\n",
    "        21, 30, 34, 24, 43, 32, 39, 45, 36, 19\n",
    "    ],\n",
    "    'Income': [\n",
    "        62500, 33000, 47000, 50000, 32000, 35000, 34000, 46000, 61500, 49000,\n",
    "        31000, 63000, 52000, 60000, 30000, 51000, 29000, 47000, 61000, 36000,\n",
    "        30000, 48500, 47000, 31000, 63500, 49500, 64000, 64500, 62000, 29000\n",
    "    ]\n",
    "}\n",
    "\n",
    "# Create DataFrame\n",
    "df = pd.DataFrame(data)\n",
    "\n",
    "# Define age bins and labels\n",
    "bins = [18, 24, 29, 34, 39, 45]\n",
    "labels = ['19-24', '25-29', '30-34', '35-39', '40-45']\n",
    "\n",
    "# Create age group categorical variable\n",
    "df['AgeGroup'] = pd.cut(df['Age'], bins=bins, labels=labels, right=True)"
   ]
  },
  {
   "cell_type": "code",
   "execution_count": null,
   "id": "9ee7bb34",
   "metadata": {},
   "outputs": [],
   "source": [
    "grouped = df.groupby('AgeGroup', observed=True)['Income'].agg(['mean', 'median', 'min', 'max', 'std'])"
   ]
  },
  {
   "cell_type": "code",
   "execution_count": null,
   "id": "061e6498",
   "metadata": {},
   "outputs": [],
   "source": [
    "print(\"Summary Statistics (Grouped by Age Range):\")\n",
    "print(grouped)"
   ]
  },
  {
   "cell_type": "code",
   "execution_count": null,
   "id": "720f0c0d",
   "metadata": {},
   "outputs": [],
   "source": [
    "grouped_values = df.groupby('AgeGroup', observed=True)['Income'].apply(list).to_dict()"
   ]
  },
  {
   "cell_type": "code",
   "execution_count": null,
   "id": "84464c8e",
   "metadata": {},
   "outputs": [],
   "source": [
    "print(\"\\nList of incomes by age group:\\n\", grouped_values)"
   ]
  },
  {
   "cell_type": "code",
   "execution_count": null,
   "id": "7585fe83",
   "metadata": {},
   "outputs": [],
   "source": []
  }
 ],
 "metadata": {
  "kernelspec": {
   "display_name": "Python 3",
   "language": "python",
   "name": "python3"
  },
  "language_info": {
   "codemirror_mode": {
    "name": "ipython",
    "version": 3
   },
   "file_extension": ".py",
   "mimetype": "text/x-python",
   "name": "python",
   "nbconvert_exporter": "python",
   "pygments_lexer": "ipython3",
   "version": "3.10.11"
  }
 },
 "nbformat": 4,
 "nbformat_minor": 5
}
