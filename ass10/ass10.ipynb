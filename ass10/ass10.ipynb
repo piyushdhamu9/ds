{
 "cells": [
  {
   "cell_type": "code",
   "execution_count": null,
   "id": "07c674ad",
   "metadata": {},
   "outputs": [],
   "source": [
    "import pandas as pd\n",
    "import seaborn as sns\n",
    "import matplotlib.pyplot as plt\n",
    "\n",
    "# Load the Iris dataset\n",
    "iris = sns.load_dataset('iris')"
   ]
  },
  {
   "cell_type": "code",
   "execution_count": null,
   "id": "56944f76",
   "metadata": {},
   "outputs": [],
   "source": [
    "# -------------------------------\n",
    "# 1. List features and their types\n",
    "# -------------------------------\n",
    "print(\"1. Features and Their Types:\\n\")\n",
    "print(iris.dtypes)\n",
    "print(\"\\nFeature Summary:\")\n",
    "for col in iris.columns:\n",
    "    dtype = iris[col].dtype\n",
    "    if dtype == 'float64':\n",
    "        print(f\"- {col}: Numeric\")\n",
    "    else:\n",
    "        print(f\"- {col}: Nominal\")"
   ]
  },
  {
   "cell_type": "code",
   "execution_count": null,
   "id": "dfd576a1",
   "metadata": {},
   "outputs": [],
   "source": [
    "# -------------------------------\n",
    "# 2. Histograms for each feature\n",
    "# -------------------------------\n",
    "print(\"\\n2. Plotting Histograms...\")\n",
    "iris.hist(figsize=(10, 8), edgecolor='black')\n",
    "plt.suptitle(\"Histograms for Each Numeric Feature\")\n",
    "plt.show()"
   ]
  },
  {
   "cell_type": "code",
   "execution_count": null,
   "id": "4b9058a7",
   "metadata": {},
   "outputs": [],
   "source": [
    "# -------------------------------\n",
    "# 3. Boxplots for each feature\n",
    "# -------------------------------\n",
    "print(\"3. Plotting Boxplots...\")\n",
    "plt.figure(figsize=(12, 8))\n",
    "for i, column in enumerate(iris.columns[:-1], 1):\n",
    "    plt.subplot(2, 2, i)\n",
    "    sns.boxplot(data=iris, x='species', y=column)\n",
    "    plt.title(f'Boxplot of {column}')\n",
    "plt.tight_layout()\n",
    "plt.show()"
   ]
  },
  {
   "cell_type": "code",
   "execution_count": null,
   "id": "7d0cf218",
   "metadata": {},
   "outputs": [],
   "source": [
    "# -------------------------------\n",
    "# 4. Compare distributions & outliers\n",
    "# -------------------------------\n",
    "print(\"4. Distribution Comparison & Outliers:\")\n",
    "for column in iris.columns[:-1]:\n",
    "    desc = iris[column].describe()\n",
    "    print(f\"\\nFeature: {column}\")\n",
    "    print(desc)\n",
    "\n",
    "    q1 = iris[column].quantile(0.25)\n",
    "    q3 = iris[column].quantile(0.75)\n",
    "    iqr = q3 - q1\n",
    "    lower_bound = q1 - 1.5 * iqr\n",
    "    upper_bound = q3 + 1.5 * iqr\n",
    "\n",
    "    outliers = iris[(iris[column] < lower_bound) | (iris[column] > upper_bound)]\n",
    "    print(f\"Potential outliers in {column}: {len(outliers)}\")\n",
    "    if not outliers.empty:\n",
    "        print(outliers[['species', column]])\n",
    "    else:\n",
    "        print(\"No outliers found.\")"
   ]
  },
  {
   "cell_type": "code",
   "execution_count": null,
   "id": "250d9d4d",
   "metadata": {},
   "outputs": [],
   "source": []
  },
  {
   "cell_type": "code",
   "execution_count": null,
   "id": "86fed4f6",
   "metadata": {},
   "outputs": [],
   "source": []
  }
 ],
 "metadata": {
  "kernelspec": {
   "display_name": "base",
   "language": "python",
   "name": "python3"
  },
  "language_info": {
   "codemirror_mode": {
    "name": "ipython",
    "version": 3
   },
   "file_extension": ".py",
   "mimetype": "text/x-python",
   "name": "python",
   "nbconvert_exporter": "python",
   "pygments_lexer": "ipython3",
   "version": "3.12.7"
  }
 },
 "nbformat": 4,
 "nbformat_minor": 5
}
