{
 "cells": [
  {
   "cell_type": "code",
   "execution_count": null,
   "id": "813f52aa",
   "metadata": {},
   "outputs": [],
   "source": [
    "# Step 0: Install and Import Required Libraries\n",
    "import nltk\n",
    "import string\n",
    "from nltk.corpus import stopwords\n",
    "from nltk.tokenize import word_tokenize\n",
    "from nltk import pos_tag\n",
    "from nltk.stem import PorterStemmer, WordNetLemmatizer\n",
    "from sklearn.feature_extraction.text import TfidfVectorizer, CountVectorizer\n",
    "import numpy as np"
   ]
  },
  {
   "cell_type": "code",
   "execution_count": null,
   "id": "a60fb22a-1306-4a42-8e69-edb1d0d371c9",
   "metadata": {},
   "outputs": [],
   "source": [
    "# Step 1: Download NLTK resources (only first time)\n",
    "nltk.download('punkt')\n",
    "nltk.download('stopwords')\n",
    "nltk.download('averaged_perceptron_tagger')\n",
    "nltk.download('wordnet')\n",
    "nltk.download('omw-1.4')"
   ]
  },
  {
   "cell_type": "code",
   "execution_count": null,
   "id": "32ed2d1d",
   "metadata": {},
   "outputs": [],
   "source": [
    "# Step 2: Sample Documents\n",
    "documents = [\n",
    "    \"Natural Language Processing is a field of Artificial Intelligence.\",\n",
    "    \"It deals with the interaction between computers and humans using natural language.\",\n",
    "    \"NLP techniques are widely used in text analytics and sentiment analysis.\"\n",
    "]"
   ]
  },
  {
   "cell_type": "code",
   "execution_count": null,
   "id": "93e3ead3",
   "metadata": {},
   "outputs": [],
   "source": [
    "# Step 3: Text Preprocessing Function\n",
    "def preprocess_text(text):\n",
    "    # 3.1 Convert to lowercase\n",
    "    text = text.lower()\n",
    "\n",
    "    # 3.2 Tokenization\n",
    "    tokens = word_tokenize(text)\n",
    "\n",
    "    # 3.3 Remove punctuation\n",
    "    tokens = [word for word in tokens if word not in string.punctuation]\n",
    "\n",
    "    # 3.4 Remove Stop Words\n",
    "    stop_words = set(stopwords.words('english'))\n",
    "    filtered_tokens = [word for word in tokens if word not in stop_words]\n",
    "\n",
    "    # 3.5 POS Tagging\n",
    "    pos_tags = pos_tag(filtered_tokens)\n",
    "\n",
    "    # 3.6 Stemming\n",
    "    stemmer = PorterStemmer()\n",
    "    stemmed_tokens = [stemmer.stem(word) for word in filtered_tokens]\n",
    "\n",
    "    # 3.7 Lemmatization\n",
    "    lemmatizer = WordNetLemmatizer()\n",
    "    lemmatized_tokens = [lemmatizer.lemmatize(word) for word in filtered_tokens]\n",
    "\n",
    "    return {\n",
    "        'tokens': tokens,\n",
    "        'filtered': filtered_tokens,\n",
    "        'pos_tags': pos_tags,\n",
    "        'stemmed': stemmed_tokens,\n",
    "        'lemmatized': lemmatized_tokens\n",
    "    }"
   ]
  },
  {
   "cell_type": "code",
   "execution_count": null,
   "id": "0951bbf5",
   "metadata": {},
   "outputs": [],
   "source": [
    "nltk.download('punkt_tab')"
   ]
  },
  {
   "cell_type": "code",
   "execution_count": null,
   "id": "47d2790a",
   "metadata": {},
   "outputs": [],
   "source": [
    "nltk.download('averaged_perceptron_tagger')"
   ]
  },
  {
   "cell_type": "code",
   "execution_count": null,
   "id": "9b770ffa",
   "metadata": {},
   "outputs": [],
   "source": [
    "nltk.download('averaged_perceptron_tagger')\n",
    "nltk.download('averaged_perceptron_tagger_eng')"
   ]
  },
  {
   "cell_type": "code",
   "execution_count": null,
   "id": "8a6422e5",
   "metadata": {},
   "outputs": [],
   "source": [
    "# Step 4: Preprocess and Print Each Document\n",
    "for i, doc in enumerate(documents):\n",
    "    print(f\"\\n--- Document {i+1} ---\")\n",
    "    result = preprocess_text(doc)\n",
    "    print(\"Original Tokens:     \", result['tokens'])\n",
    "    print(\"After Stop Removal:  \", result['filtered'])\n",
    "    print(\"POS Tags:            \", result['pos_tags'])\n",
    "    print(\"After Stemming:      \", result['stemmed'])\n",
    "    print(\"After Lemmatization: \", result['lemmatized'])"
   ]
  },
  {
   "cell_type": "code",
   "execution_count": null,
   "id": "519144c2",
   "metadata": {},
   "outputs": [],
   "source": [
    "# Step 5: Term Frequency (TF) Matrix using CountVectorizer\n",
    "print(\"\\n--- Term Frequency (TF) Matrix ---\")\n",
    "tf_vectorizer = CountVectorizer(stop_words='english')\n",
    "tf_matrix = tf_vectorizer.fit_transform(documents)\n",
    "print(\"Vocabulary:\", tf_vectorizer.get_feature_names_out())\n",
    "print(tf_matrix.toarray())"
   ]
  },
  {
   "cell_type": "code",
   "execution_count": null,
   "id": "ed888aa7",
   "metadata": {},
   "outputs": [],
   "source": [
    "# Step 6: TF-IDF Matrix using TfidfVectorizer\n",
    "print(\"\\n--- TF-IDF Matrix ---\")\n",
    "tfidf_vectorizer = TfidfVectorizer(stop_words='english')\n",
    "tfidf_matrix = tfidf_vectorizer.fit_transform(documents)\n",
    "print(\"Vocabulary:\", tfidf_vectorizer.get_feature_names_out())\n",
    "print(np.round(tfidf_matrix.toarray(), 3))  # rounded for better readability"
   ]
  },
  {
   "cell_type": "code",
   "execution_count": null,
   "id": "268e28c0",
   "metadata": {},
   "outputs": [],
   "source": []
  }
 ],
 "metadata": {
  "kernelspec": {
   "display_name": "Python 3",
   "language": "python",
   "name": "python3"
  },
  "language_info": {
   "codemirror_mode": {
    "name": "ipython",
    "version": 3
   },
   "file_extension": ".py",
   "mimetype": "text/x-python",
   "name": "python",
   "nbconvert_exporter": "python",
   "pygments_lexer": "ipython3",
   "version": "3.10.11"
  }
 },
 "nbformat": 4,
 "nbformat_minor": 5
}
