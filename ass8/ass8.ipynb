{
 "cells": [
  {
   "cell_type": "code",
   "execution_count": null,
   "id": "276fa1aa",
   "metadata": {},
   "outputs": [],
   "source": [
    "import seaborn as sns\n",
    "import matplotlib.pyplot as plt\n",
    "\n",
    "# Load the titanic dataset\n",
    "titanic = sns.load_dataset('titanic')\n",
    "\n",
    "# Display the first few rows of the dataset\n",
    "print(titanic.head())\n"
   ]
  },
  {
   "cell_type": "code",
   "execution_count": null,
   "id": "dca38973",
   "metadata": {},
   "outputs": [],
   "source": [
    "# Survival count\n",
    "sns.countplot(x='survived', data=titanic)\n",
    "plt.title(\"Survival Count\")\n",
    "plt.show()"
   ]
  },
  {
   "cell_type": "code",
   "execution_count": null,
   "id": "705f1623",
   "metadata": {},
   "outputs": [],
   "source": [
    "# Survival by gender\n",
    "sns.countplot(x='sex', hue='survived', data=titanic)\n",
    "plt.title(\"Survival by Gender\")\n",
    "plt.show()\n"
   ]
  },
  {
   "cell_type": "code",
   "execution_count": null,
   "id": "198fe647",
   "metadata": {},
   "outputs": [],
   "source": [
    "# Survival by class\n",
    "sns.countplot(x='class', hue='survived', data=titanic)\n",
    "plt.title(\"Survival by Passenger Class\")\n",
    "plt.show()"
   ]
  },
  {
   "cell_type": "code",
   "execution_count": null,
   "id": "cf3d799c",
   "metadata": {},
   "outputs": [],
   "source": [
    "# Age distribution\n",
    "sns.histplot(titanic['age'].dropna(), kde=True)\n",
    "plt.title(\"Age Distribution\")\n",
    "plt.xlabel(\"Age\")\n",
    "plt.ylabel(\"Number of Passengers\")\n",
    "plt.show()"
   ]
  },
  {
   "cell_type": "code",
   "execution_count": null,
   "id": "d91b0049",
   "metadata": {},
   "outputs": [],
   "source": [
    "# Plot histogram of fare\n",
    "sns.histplot(titanic['fare'], bins=30, kde=True)\n",
    "plt.title(\"Ticket Fare Distribution\")\n",
    "plt.xlabel(\"Fare\")\n",
    "plt.ylabel(\"Number of Passengers\")\n",
    "plt.show()"
   ]
  }
 ],
 "metadata": {
  "kernelspec": {
   "display_name": "base",
   "language": "python",
   "name": "python3"
  },
  "language_info": {
   "codemirror_mode": {
    "name": "ipython",
    "version": 3
   },
   "file_extension": ".py",
   "mimetype": "text/x-python",
   "name": "python",
   "nbconvert_exporter": "python",
   "pygments_lexer": "ipython3",
   "version": "3.12.7"
  }
 },
 "nbformat": 4,
 "nbformat_minor": 5
}
